{
 "cells": [
  {
   "cell_type": "markdown",
   "metadata": {},
   "source": [
    "## The Problem - How to assess \"Quality of Living\" in a city where it is \"unknown\"?\n",
    "\n",
    "The Mercer Quality of Living Survey every year ranks cities of the world according to their quality of living. However, only big or at least bigger cities are considered in the survey (a total of 231 cities in 2019, from Vienna (#1) to Baghdad (#231)). The Swiss city of Basel for example was only added to the list in 2018, when it directly placed very high in the ranking, as the 10th most livable city on the planet. \n",
    "\n",
    "Given the situation that one has multiple job offers in cities that are not listed in the survey (just like Basel before 2018) and one would like to decide which offer to take, based on the expected quality of life, can we built a dataset that represents the current top 30 cities in the Mercer Quality of Living Survey and then compare the data of our cities of interest to this data set, determining to which city to move?\n"
   ]
  },
  {
   "cell_type": "markdown",
   "metadata": {},
   "source": [
    "## The data\n",
    "\n",
    "The first data set I will be using for this project is the list of cities with the highest quality of living in 2019, as provided by Mercer, and which can be found on Wikipedia.\n",
    "https://mobilityexchange.mercer.com/Insights/quality-of-living-rankings; \n",
    "https://en.wikipedia.org/wiki/Mercer_Quality_of_Living_Survey\n",
    "\n",
    "I will then use Foursquare location data for these cities to build a comprehensive dataset of what defines a \"livable\" city with respect to amenities e.g. restaurants, parks etc. While I understand that aspects like safety, economic and natural environment cannot be grasped by Foursquare location data, I assume that those factors are similar in the cities one applies to for a job, or at least were considered before.\n",
    "\n",
    "Then, I will use three query cities, which are just outside the top 30 (Dublin (#33), Boston (#36) and Paris (#39)), three cities that rank rather low (Istanbul (#130), New Dheli (#162) and Moscow (#167)) to determine how my dataset compares to already ranked cities and show me the dynamic range I am able to achieve i.e. how good can I discriminate a high vs. low ranked city.\n",
    "\n",
    "Lastly I will ask how the quality of living, based on the before defined criteria, is in Quebec (Canada), Nice (France) and Zug (Switzerland) and hence decide where one should move to.\n"
   ]
  },
  {
   "cell_type": "code",
   "execution_count": null,
   "metadata": {},
   "outputs": [],
   "source": []
  }
 ],
 "metadata": {
  "kernelspec": {
   "display_name": "Python 3",
   "language": "python",
   "name": "python3"
  },
  "language_info": {
   "codemirror_mode": {
    "name": "ipython",
    "version": 3
   },
   "file_extension": ".py",
   "mimetype": "text/x-python",
   "name": "python",
   "nbconvert_exporter": "python",
   "pygments_lexer": "ipython3",
   "version": "3.7.3"
  }
 },
 "nbformat": 4,
 "nbformat_minor": 2
}
